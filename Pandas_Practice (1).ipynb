{
  "nbformat": 4,
  "nbformat_minor": 0,
  "metadata": {
    "kernelspec": {
      "display_name": "Python 3",
      "language": "python",
      "name": "python3"
    },
    "language_info": {
      "codemirror_mode": {
        "name": "ipython",
        "version": 3
      },
      "file_extension": ".py",
      "mimetype": "text/x-python",
      "name": "python",
      "nbconvert_exporter": "python",
      "pygments_lexer": "ipython3",
      "version": "3.7.4"
    },
    "colab": {
      "name": "Pandas Practice.ipynb",
      "provenance": [],
      "collapsed_sections": []
    }
  },
  "cells": [
    {
      "cell_type": "markdown",
      "metadata": {
        "id": "3VHd12q4WpLj",
        "colab_type": "text"
      },
      "source": [
        "# Basic Pandas Operations"
      ]
    },
    {
      "cell_type": "code",
      "metadata": {
        "id": "HBpNU3LdWpLk",
        "colab_type": "code",
        "colab": {}
      },
      "source": [
        "# import numpy and pandas modules\n",
        "import numpy as np\n",
        "import pandas as pd"
      ],
      "execution_count": 0,
      "outputs": []
    },
    {
      "cell_type": "markdown",
      "metadata": {
        "id": "RFCjshYAWpLq",
        "colab_type": "text"
      },
      "source": [
        "## Create Pandas Dataframe"
      ]
    },
    {
      "cell_type": "code",
      "metadata": {
        "id": "QPaWY6_1WpLr",
        "colab_type": "code",
        "colab": {
          "base_uri": "https://localhost:8080/",
          "height": 84
        },
        "outputId": "4752aab1-3ec8-4c01-fa09-831b7d0eb00b"
      },
      "source": [
        "# We will use a small dataset for a simple example data stored in a python dictionary \n",
        "data = {\n",
        "    'Lion': [23, 17, 5, 12, 1, 5],\n",
        "    'Tiger': [10, 7, 13, 2, 8, 19],\n",
        "    'Leapord': [4, 14, 8, 15, 11, 3],\n",
        "    'Cheetah': [4, 14, 8, 15, 11, 3]}\n",
        "data"
      ],
      "execution_count": 36,
      "outputs": [
        {
          "output_type": "execute_result",
          "data": {
            "text/plain": [
              "{'Cheetah': [4, 14, 8, 15, 11, 3],\n",
              " 'Leapord': [4, 14, 8, 15, 11, 3],\n",
              " 'Lion': [23, 17, 5, 12, 1, 5],\n",
              " 'Tiger': [10, 7, 13, 2, 8, 19]}"
            ]
          },
          "metadata": {
            "tags": []
          },
          "execution_count": 36
        }
      ]
    },
    {
      "cell_type": "code",
      "metadata": {
        "id": "53RI5pN8WpLw",
        "colab_type": "code",
        "colab": {
          "base_uri": "https://localhost:8080/",
          "height": 225
        },
        "outputId": "a01132f0-1eac-4198-a8bb-50ec2387db12"
      },
      "source": [
        "# convert dictionary to a pandas dataframe notice that index numbers are serially generated\n",
        "zoo = pd.DataFrame(data)\n",
        "zoo"
      ],
      "execution_count": 37,
      "outputs": [
        {
          "output_type": "execute_result",
          "data": {
            "text/html": [
              "<div>\n",
              "<style scoped>\n",
              "    .dataframe tbody tr th:only-of-type {\n",
              "        vertical-align: middle;\n",
              "    }\n",
              "\n",
              "    .dataframe tbody tr th {\n",
              "        vertical-align: top;\n",
              "    }\n",
              "\n",
              "    .dataframe thead th {\n",
              "        text-align: right;\n",
              "    }\n",
              "</style>\n",
              "<table border=\"1\" class=\"dataframe\">\n",
              "  <thead>\n",
              "    <tr style=\"text-align: right;\">\n",
              "      <th></th>\n",
              "      <th>Lion</th>\n",
              "      <th>Tiger</th>\n",
              "      <th>Leapord</th>\n",
              "      <th>Cheetah</th>\n",
              "    </tr>\n",
              "  </thead>\n",
              "  <tbody>\n",
              "    <tr>\n",
              "      <th>0</th>\n",
              "      <td>23</td>\n",
              "      <td>10</td>\n",
              "      <td>4</td>\n",
              "      <td>4</td>\n",
              "    </tr>\n",
              "    <tr>\n",
              "      <th>1</th>\n",
              "      <td>17</td>\n",
              "      <td>7</td>\n",
              "      <td>14</td>\n",
              "      <td>14</td>\n",
              "    </tr>\n",
              "    <tr>\n",
              "      <th>2</th>\n",
              "      <td>5</td>\n",
              "      <td>13</td>\n",
              "      <td>8</td>\n",
              "      <td>8</td>\n",
              "    </tr>\n",
              "    <tr>\n",
              "      <th>3</th>\n",
              "      <td>12</td>\n",
              "      <td>2</td>\n",
              "      <td>15</td>\n",
              "      <td>15</td>\n",
              "    </tr>\n",
              "    <tr>\n",
              "      <th>4</th>\n",
              "      <td>1</td>\n",
              "      <td>8</td>\n",
              "      <td>11</td>\n",
              "      <td>11</td>\n",
              "    </tr>\n",
              "    <tr>\n",
              "      <th>5</th>\n",
              "      <td>5</td>\n",
              "      <td>19</td>\n",
              "      <td>3</td>\n",
              "      <td>3</td>\n",
              "    </tr>\n",
              "  </tbody>\n",
              "</table>\n",
              "</div>"
            ],
            "text/plain": [
              "   Lion  Tiger  Leapord  Cheetah\n",
              "0    23     10        4        4\n",
              "1    17      7       14       14\n",
              "2     5     13        8        8\n",
              "3    12      2       15       15\n",
              "4     1      8       11       11\n",
              "5     5     19        3        3"
            ]
          },
          "metadata": {
            "tags": []
          },
          "execution_count": 37
        }
      ]
    },
    {
      "cell_type": "code",
      "metadata": {
        "id": "Ho7APCSfWpL2",
        "colab_type": "code",
        "colab": {
          "base_uri": "https://localhost:8080/",
          "height": 202
        },
        "outputId": "46ad3c5a-b2d8-49f2-843b-273da7a2bd9a"
      },
      "source": [
        "# information about the dataframe\n",
        "zoo.info()"
      ],
      "execution_count": 38,
      "outputs": [
        {
          "output_type": "stream",
          "text": [
            "<class 'pandas.core.frame.DataFrame'>\n",
            "RangeIndex: 6 entries, 0 to 5\n",
            "Data columns (total 4 columns):\n",
            " #   Column   Non-Null Count  Dtype\n",
            "---  ------   --------------  -----\n",
            " 0   Lion     6 non-null      int64\n",
            " 1   Tiger    6 non-null      int64\n",
            " 2   Leapord  6 non-null      int64\n",
            " 3   Cheetah  6 non-null      int64\n",
            "dtypes: int64(4)\n",
            "memory usage: 320.0 bytes\n"
          ],
          "name": "stdout"
        }
      ]
    },
    {
      "cell_type": "code",
      "metadata": {
        "id": "sUMb4dEbWpL7",
        "colab_type": "code",
        "colab": {
          "base_uri": "https://localhost:8080/",
          "height": 136
        },
        "outputId": "69c9e425-a8e3-4e1c-f47d-6968eb43af40"
      },
      "source": [
        "# Take a look at the head of the dataframe\n",
        "zoo.head(n=3)"
      ],
      "execution_count": 39,
      "outputs": [
        {
          "output_type": "execute_result",
          "data": {
            "text/html": [
              "<div>\n",
              "<style scoped>\n",
              "    .dataframe tbody tr th:only-of-type {\n",
              "        vertical-align: middle;\n",
              "    }\n",
              "\n",
              "    .dataframe tbody tr th {\n",
              "        vertical-align: top;\n",
              "    }\n",
              "\n",
              "    .dataframe thead th {\n",
              "        text-align: right;\n",
              "    }\n",
              "</style>\n",
              "<table border=\"1\" class=\"dataframe\">\n",
              "  <thead>\n",
              "    <tr style=\"text-align: right;\">\n",
              "      <th></th>\n",
              "      <th>Lion</th>\n",
              "      <th>Tiger</th>\n",
              "      <th>Leapord</th>\n",
              "      <th>Cheetah</th>\n",
              "    </tr>\n",
              "  </thead>\n",
              "  <tbody>\n",
              "    <tr>\n",
              "      <th>0</th>\n",
              "      <td>23</td>\n",
              "      <td>10</td>\n",
              "      <td>4</td>\n",
              "      <td>4</td>\n",
              "    </tr>\n",
              "    <tr>\n",
              "      <th>1</th>\n",
              "      <td>17</td>\n",
              "      <td>7</td>\n",
              "      <td>14</td>\n",
              "      <td>14</td>\n",
              "    </tr>\n",
              "    <tr>\n",
              "      <th>2</th>\n",
              "      <td>5</td>\n",
              "      <td>13</td>\n",
              "      <td>8</td>\n",
              "      <td>8</td>\n",
              "    </tr>\n",
              "  </tbody>\n",
              "</table>\n",
              "</div>"
            ],
            "text/plain": [
              "   Lion  Tiger  Leapord  Cheetah\n",
              "0    23     10        4        4\n",
              "1    17      7       14       14\n",
              "2     5     13        8        8"
            ]
          },
          "metadata": {
            "tags": []
          },
          "execution_count": 39
        }
      ]
    },
    {
      "cell_type": "code",
      "metadata": {
        "id": "aLuqAp_OWpMA",
        "colab_type": "code",
        "colab": {
          "base_uri": "https://localhost:8080/",
          "height": 195
        },
        "outputId": "be635ac6-231e-49c7-d332-023819201588"
      },
      "source": [
        "# Gives the last 5 values (tail of dataframe)\n",
        "zoo.tail()"
      ],
      "execution_count": 40,
      "outputs": [
        {
          "output_type": "execute_result",
          "data": {
            "text/html": [
              "<div>\n",
              "<style scoped>\n",
              "    .dataframe tbody tr th:only-of-type {\n",
              "        vertical-align: middle;\n",
              "    }\n",
              "\n",
              "    .dataframe tbody tr th {\n",
              "        vertical-align: top;\n",
              "    }\n",
              "\n",
              "    .dataframe thead th {\n",
              "        text-align: right;\n",
              "    }\n",
              "</style>\n",
              "<table border=\"1\" class=\"dataframe\">\n",
              "  <thead>\n",
              "    <tr style=\"text-align: right;\">\n",
              "      <th></th>\n",
              "      <th>Lion</th>\n",
              "      <th>Tiger</th>\n",
              "      <th>Leapord</th>\n",
              "      <th>Cheetah</th>\n",
              "    </tr>\n",
              "  </thead>\n",
              "  <tbody>\n",
              "    <tr>\n",
              "      <th>1</th>\n",
              "      <td>17</td>\n",
              "      <td>7</td>\n",
              "      <td>14</td>\n",
              "      <td>14</td>\n",
              "    </tr>\n",
              "    <tr>\n",
              "      <th>2</th>\n",
              "      <td>5</td>\n",
              "      <td>13</td>\n",
              "      <td>8</td>\n",
              "      <td>8</td>\n",
              "    </tr>\n",
              "    <tr>\n",
              "      <th>3</th>\n",
              "      <td>12</td>\n",
              "      <td>2</td>\n",
              "      <td>15</td>\n",
              "      <td>15</td>\n",
              "    </tr>\n",
              "    <tr>\n",
              "      <th>4</th>\n",
              "      <td>1</td>\n",
              "      <td>8</td>\n",
              "      <td>11</td>\n",
              "      <td>11</td>\n",
              "    </tr>\n",
              "    <tr>\n",
              "      <th>5</th>\n",
              "      <td>5</td>\n",
              "      <td>19</td>\n",
              "      <td>3</td>\n",
              "      <td>3</td>\n",
              "    </tr>\n",
              "  </tbody>\n",
              "</table>\n",
              "</div>"
            ],
            "text/plain": [
              "   Lion  Tiger  Leapord  Cheetah\n",
              "1    17      7       14       14\n",
              "2     5     13        8        8\n",
              "3    12      2       15       15\n",
              "4     1      8       11       11\n",
              "5     5     19        3        3"
            ]
          },
          "metadata": {
            "tags": []
          },
          "execution_count": 40
        }
      ]
    },
    {
      "cell_type": "code",
      "metadata": {
        "id": "PmBM7PwpWpME",
        "colab_type": "code",
        "colab": {
          "base_uri": "https://localhost:8080/",
          "height": 225
        },
        "outputId": "08d53573-c3dd-4cdc-ced6-d11472a4f868"
      },
      "source": [
        "# create a dataframe with index names specified data is the dataset in dictionary format index names are in a list format\n",
        "idx_names = ['zoo0', 'zoo1', 'zoo2', 'zoo3', 'zoo4', 'zoo5']\n",
        "zoo_indexname = pd.DataFrame(data, index = idx_names)\n",
        "zoo_indexname"
      ],
      "execution_count": 41,
      "outputs": [
        {
          "output_type": "execute_result",
          "data": {
            "text/html": [
              "<div>\n",
              "<style scoped>\n",
              "    .dataframe tbody tr th:only-of-type {\n",
              "        vertical-align: middle;\n",
              "    }\n",
              "\n",
              "    .dataframe tbody tr th {\n",
              "        vertical-align: top;\n",
              "    }\n",
              "\n",
              "    .dataframe thead th {\n",
              "        text-align: right;\n",
              "    }\n",
              "</style>\n",
              "<table border=\"1\" class=\"dataframe\">\n",
              "  <thead>\n",
              "    <tr style=\"text-align: right;\">\n",
              "      <th></th>\n",
              "      <th>Lion</th>\n",
              "      <th>Tiger</th>\n",
              "      <th>Leapord</th>\n",
              "      <th>Cheetah</th>\n",
              "    </tr>\n",
              "  </thead>\n",
              "  <tbody>\n",
              "    <tr>\n",
              "      <th>zoo0</th>\n",
              "      <td>23</td>\n",
              "      <td>10</td>\n",
              "      <td>4</td>\n",
              "      <td>4</td>\n",
              "    </tr>\n",
              "    <tr>\n",
              "      <th>zoo1</th>\n",
              "      <td>17</td>\n",
              "      <td>7</td>\n",
              "      <td>14</td>\n",
              "      <td>14</td>\n",
              "    </tr>\n",
              "    <tr>\n",
              "      <th>zoo2</th>\n",
              "      <td>5</td>\n",
              "      <td>13</td>\n",
              "      <td>8</td>\n",
              "      <td>8</td>\n",
              "    </tr>\n",
              "    <tr>\n",
              "      <th>zoo3</th>\n",
              "      <td>12</td>\n",
              "      <td>2</td>\n",
              "      <td>15</td>\n",
              "      <td>15</td>\n",
              "    </tr>\n",
              "    <tr>\n",
              "      <th>zoo4</th>\n",
              "      <td>1</td>\n",
              "      <td>8</td>\n",
              "      <td>11</td>\n",
              "      <td>11</td>\n",
              "    </tr>\n",
              "    <tr>\n",
              "      <th>zoo5</th>\n",
              "      <td>5</td>\n",
              "      <td>19</td>\n",
              "      <td>3</td>\n",
              "      <td>3</td>\n",
              "    </tr>\n",
              "  </tbody>\n",
              "</table>\n",
              "</div>"
            ],
            "text/plain": [
              "      Lion  Tiger  Leapord  Cheetah\n",
              "zoo0    23     10        4        4\n",
              "zoo1    17      7       14       14\n",
              "zoo2     5     13        8        8\n",
              "zoo3    12      2       15       15\n",
              "zoo4     1      8       11       11\n",
              "zoo5     5     19        3        3"
            ]
          },
          "metadata": {
            "tags": []
          },
          "execution_count": 41
        }
      ]
    },
    {
      "cell_type": "markdown",
      "metadata": {
        "id": "hRseoJ7NWpMJ",
        "colab_type": "text"
      },
      "source": [
        "## Working with Rows and Columns "
      ]
    },
    {
      "cell_type": "code",
      "metadata": {
        "id": "RCAqqEovWpMJ",
        "colab_type": "code",
        "colab": {
          "base_uri": "https://localhost:8080/",
          "height": 101
        },
        "outputId": "1dc1e591-8dfa-43d8-b820-9b5cfffa07e0"
      },
      "source": [
        "# select row only by label, using loc[]  .loc refers to label\n",
        "zoo_indexname.loc['zoo4']"
      ],
      "execution_count": 42,
      "outputs": [
        {
          "output_type": "execute_result",
          "data": {
            "text/plain": [
              "Lion        1\n",
              "Tiger       8\n",
              "Leapord    11\n",
              "Cheetah    11\n",
              "Name: zoo4, dtype: int64"
            ]
          },
          "metadata": {
            "tags": []
          },
          "execution_count": 42
        }
      ]
    },
    {
      "cell_type": "code",
      "metadata": {
        "id": "NpYpufCTWpMN",
        "colab_type": "code",
        "colab": {
          "base_uri": "https://localhost:8080/",
          "height": 34
        },
        "outputId": "cb6d0dc3-aa74-4159-dd12-8729e7ae89c0"
      },
      "source": [
        "# select row and column, using loc[] .loc refers to label\n",
        "\n",
        "zoo_indexname.loc['zoo3', 'Cheetah']"
      ],
      "execution_count": 43,
      "outputs": [
        {
          "output_type": "execute_result",
          "data": {
            "text/plain": [
              "15"
            ]
          },
          "metadata": {
            "tags": []
          },
          "execution_count": 43
        }
      ]
    },
    {
      "cell_type": "code",
      "metadata": {
        "id": "JQuL2_SyWpMQ",
        "colab_type": "code",
        "colab": {
          "base_uri": "https://localhost:8080/",
          "height": 136
        },
        "outputId": "09d40c48-09d6-489d-fc3c-79bc7f7c5587"
      },
      "source": [
        "# slice by row, using index positions, python way\n",
        "\n",
        "zoo_indexname[2:5]"
      ],
      "execution_count": 44,
      "outputs": [
        {
          "output_type": "execute_result",
          "data": {
            "text/html": [
              "<div>\n",
              "<style scoped>\n",
              "    .dataframe tbody tr th:only-of-type {\n",
              "        vertical-align: middle;\n",
              "    }\n",
              "\n",
              "    .dataframe tbody tr th {\n",
              "        vertical-align: top;\n",
              "    }\n",
              "\n",
              "    .dataframe thead th {\n",
              "        text-align: right;\n",
              "    }\n",
              "</style>\n",
              "<table border=\"1\" class=\"dataframe\">\n",
              "  <thead>\n",
              "    <tr style=\"text-align: right;\">\n",
              "      <th></th>\n",
              "      <th>Lion</th>\n",
              "      <th>Tiger</th>\n",
              "      <th>Leapord</th>\n",
              "      <th>Cheetah</th>\n",
              "    </tr>\n",
              "  </thead>\n",
              "  <tbody>\n",
              "    <tr>\n",
              "      <th>zoo2</th>\n",
              "      <td>5</td>\n",
              "      <td>13</td>\n",
              "      <td>8</td>\n",
              "      <td>8</td>\n",
              "    </tr>\n",
              "    <tr>\n",
              "      <th>zoo3</th>\n",
              "      <td>12</td>\n",
              "      <td>2</td>\n",
              "      <td>15</td>\n",
              "      <td>15</td>\n",
              "    </tr>\n",
              "    <tr>\n",
              "      <th>zoo4</th>\n",
              "      <td>1</td>\n",
              "      <td>8</td>\n",
              "      <td>11</td>\n",
              "      <td>11</td>\n",
              "    </tr>\n",
              "  </tbody>\n",
              "</table>\n",
              "</div>"
            ],
            "text/plain": [
              "      Lion  Tiger  Leapord  Cheetah\n",
              "zoo2     5     13        8        8\n",
              "zoo3    12      2       15       15\n",
              "zoo4     1      8       11       11"
            ]
          },
          "metadata": {
            "tags": []
          },
          "execution_count": 44
        }
      ]
    },
    {
      "cell_type": "code",
      "metadata": {
        "id": "9ksBWK56WpMU",
        "colab_type": "code",
        "colab": {
          "base_uri": "https://localhost:8080/",
          "height": 166
        },
        "outputId": "ef86342f-22c7-4329-b167-1579da2c5ee9"
      },
      "source": [
        "# slice by row, using label names (values and not index position)\n",
        "\n",
        "zoo_indexname['zoo2':'zoo5']"
      ],
      "execution_count": 45,
      "outputs": [
        {
          "output_type": "execute_result",
          "data": {
            "text/html": [
              "<div>\n",
              "<style scoped>\n",
              "    .dataframe tbody tr th:only-of-type {\n",
              "        vertical-align: middle;\n",
              "    }\n",
              "\n",
              "    .dataframe tbody tr th {\n",
              "        vertical-align: top;\n",
              "    }\n",
              "\n",
              "    .dataframe thead th {\n",
              "        text-align: right;\n",
              "    }\n",
              "</style>\n",
              "<table border=\"1\" class=\"dataframe\">\n",
              "  <thead>\n",
              "    <tr style=\"text-align: right;\">\n",
              "      <th></th>\n",
              "      <th>Lion</th>\n",
              "      <th>Tiger</th>\n",
              "      <th>Leapord</th>\n",
              "      <th>Cheetah</th>\n",
              "    </tr>\n",
              "  </thead>\n",
              "  <tbody>\n",
              "    <tr>\n",
              "      <th>zoo2</th>\n",
              "      <td>5</td>\n",
              "      <td>13</td>\n",
              "      <td>8</td>\n",
              "      <td>8</td>\n",
              "    </tr>\n",
              "    <tr>\n",
              "      <th>zoo3</th>\n",
              "      <td>12</td>\n",
              "      <td>2</td>\n",
              "      <td>15</td>\n",
              "      <td>15</td>\n",
              "    </tr>\n",
              "    <tr>\n",
              "      <th>zoo4</th>\n",
              "      <td>1</td>\n",
              "      <td>8</td>\n",
              "      <td>11</td>\n",
              "      <td>11</td>\n",
              "    </tr>\n",
              "    <tr>\n",
              "      <th>zoo5</th>\n",
              "      <td>5</td>\n",
              "      <td>19</td>\n",
              "      <td>3</td>\n",
              "      <td>3</td>\n",
              "    </tr>\n",
              "  </tbody>\n",
              "</table>\n",
              "</div>"
            ],
            "text/plain": [
              "      Lion  Tiger  Leapord  Cheetah\n",
              "zoo2     5     13        8        8\n",
              "zoo3    12      2       15       15\n",
              "zoo4     1      8       11       11\n",
              "zoo5     5     19        3        3"
            ]
          },
          "metadata": {
            "tags": []
          },
          "execution_count": 45
        }
      ]
    },
    {
      "cell_type": "code",
      "metadata": {
        "id": "pHo6pnN1WpMc",
        "colab_type": "code",
        "colab": {
          "base_uri": "https://localhost:8080/",
          "height": 134
        },
        "outputId": "2cd1d7ac-2194-471b-f5db-0698906a2546"
      },
      "source": [
        "# select column with slice method (all rows, and column at index position 1)  you will get back the Cheetah column, which is index position 1 column-wise\n",
        "# i refers to index\n",
        "zoo_indexname.iloc[:, 1]"
      ],
      "execution_count": 46,
      "outputs": [
        {
          "output_type": "execute_result",
          "data": {
            "text/plain": [
              "zoo0    10\n",
              "zoo1     7\n",
              "zoo2    13\n",
              "zoo3     2\n",
              "zoo4     8\n",
              "zoo5    19\n",
              "Name: Tiger, dtype: int64"
            ]
          },
          "metadata": {
            "tags": []
          },
          "execution_count": 46
        }
      ]
    },
    {
      "cell_type": "code",
      "metadata": {
        "id": "UXeStzcuWpMf",
        "colab_type": "code",
        "colab": {
          "base_uri": "https://localhost:8080/",
          "height": 136
        },
        "outputId": "754fba2d-8d4d-40b3-c1ed-98df0765a8d3"
      },
      "source": [
        "# select multiple rows and multiple columns with slice method  similar to pythonic way of indexing\n",
        "zoo_indexname.iloc[2:5, 0:2]"
      ],
      "execution_count": 47,
      "outputs": [
        {
          "output_type": "execute_result",
          "data": {
            "text/html": [
              "<div>\n",
              "<style scoped>\n",
              "    .dataframe tbody tr th:only-of-type {\n",
              "        vertical-align: middle;\n",
              "    }\n",
              "\n",
              "    .dataframe tbody tr th {\n",
              "        vertical-align: top;\n",
              "    }\n",
              "\n",
              "    .dataframe thead th {\n",
              "        text-align: right;\n",
              "    }\n",
              "</style>\n",
              "<table border=\"1\" class=\"dataframe\">\n",
              "  <thead>\n",
              "    <tr style=\"text-align: right;\">\n",
              "      <th></th>\n",
              "      <th>Lion</th>\n",
              "      <th>Tiger</th>\n",
              "    </tr>\n",
              "  </thead>\n",
              "  <tbody>\n",
              "    <tr>\n",
              "      <th>zoo2</th>\n",
              "      <td>5</td>\n",
              "      <td>13</td>\n",
              "    </tr>\n",
              "    <tr>\n",
              "      <th>zoo3</th>\n",
              "      <td>12</td>\n",
              "      <td>2</td>\n",
              "    </tr>\n",
              "    <tr>\n",
              "      <th>zoo4</th>\n",
              "      <td>1</td>\n",
              "      <td>8</td>\n",
              "    </tr>\n",
              "  </tbody>\n",
              "</table>\n",
              "</div>"
            ],
            "text/plain": [
              "      Lion  Tiger\n",
              "zoo2     5     13\n",
              "zoo3    12      2\n",
              "zoo4     1      8"
            ]
          },
          "metadata": {
            "tags": []
          },
          "execution_count": 47
        }
      ]
    },
    {
      "cell_type": "code",
      "metadata": {
        "id": "oI--rw8hWpMi",
        "colab_type": "code",
        "colab": {
          "base_uri": "https://localhost:8080/",
          "height": 134
        },
        "outputId": "46462f9d-9eb0-4c16-b9c5-5c02415b31c1"
      },
      "source": [
        "# select column using dot notation or bracket  zoo_indexname.Tiger\n",
        "\n",
        "zoo_indexname['Lion']"
      ],
      "execution_count": 48,
      "outputs": [
        {
          "output_type": "execute_result",
          "data": {
            "text/plain": [
              "zoo0    23\n",
              "zoo1    17\n",
              "zoo2     5\n",
              "zoo3    12\n",
              "zoo4     1\n",
              "zoo5     5\n",
              "Name: Lion, dtype: int64"
            ]
          },
          "metadata": {
            "tags": []
          },
          "execution_count": 48
        }
      ]
    },
    {
      "cell_type": "code",
      "metadata": {
        "id": "yrGgWUqYWpMl",
        "colab_type": "code",
        "colab": {
          "base_uri": "https://localhost:8080/",
          "height": 225
        },
        "outputId": "f534406a-8ae3-4b13-faa9-89f623ce65c1"
      },
      "source": [
        "# select multiple columns with brackets\n",
        "zoo_indexname[['Lion', 'Tiger']]"
      ],
      "execution_count": 49,
      "outputs": [
        {
          "output_type": "execute_result",
          "data": {
            "text/html": [
              "<div>\n",
              "<style scoped>\n",
              "    .dataframe tbody tr th:only-of-type {\n",
              "        vertical-align: middle;\n",
              "    }\n",
              "\n",
              "    .dataframe tbody tr th {\n",
              "        vertical-align: top;\n",
              "    }\n",
              "\n",
              "    .dataframe thead th {\n",
              "        text-align: right;\n",
              "    }\n",
              "</style>\n",
              "<table border=\"1\" class=\"dataframe\">\n",
              "  <thead>\n",
              "    <tr style=\"text-align: right;\">\n",
              "      <th></th>\n",
              "      <th>Lion</th>\n",
              "      <th>Tiger</th>\n",
              "    </tr>\n",
              "  </thead>\n",
              "  <tbody>\n",
              "    <tr>\n",
              "      <th>zoo0</th>\n",
              "      <td>23</td>\n",
              "      <td>10</td>\n",
              "    </tr>\n",
              "    <tr>\n",
              "      <th>zoo1</th>\n",
              "      <td>17</td>\n",
              "      <td>7</td>\n",
              "    </tr>\n",
              "    <tr>\n",
              "      <th>zoo2</th>\n",
              "      <td>5</td>\n",
              "      <td>13</td>\n",
              "    </tr>\n",
              "    <tr>\n",
              "      <th>zoo3</th>\n",
              "      <td>12</td>\n",
              "      <td>2</td>\n",
              "    </tr>\n",
              "    <tr>\n",
              "      <th>zoo4</th>\n",
              "      <td>1</td>\n",
              "      <td>8</td>\n",
              "    </tr>\n",
              "    <tr>\n",
              "      <th>zoo5</th>\n",
              "      <td>5</td>\n",
              "      <td>19</td>\n",
              "    </tr>\n",
              "  </tbody>\n",
              "</table>\n",
              "</div>"
            ],
            "text/plain": [
              "      Lion  Tiger\n",
              "zoo0    23     10\n",
              "zoo1    17      7\n",
              "zoo2     5     13\n",
              "zoo3    12      2\n",
              "zoo4     1      8\n",
              "zoo5     5     19"
            ]
          },
          "metadata": {
            "tags": []
          },
          "execution_count": 49
        }
      ]
    },
    {
      "cell_type": "code",
      "metadata": {
        "id": "Bq7n0keQWpMn",
        "colab_type": "code",
        "colab": {
          "base_uri": "https://localhost:8080/",
          "height": 34
        },
        "outputId": "fdb13d43-9ce8-4262-dcc8-5a7941e0a58d"
      },
      "source": [
        "# select column names\n",
        "# no parentheses\n",
        "zoo_indexname.columns"
      ],
      "execution_count": 50,
      "outputs": [
        {
          "output_type": "execute_result",
          "data": {
            "text/plain": [
              "Index(['Lion', 'Tiger', 'Leapord', 'Cheetah'], dtype='object')"
            ]
          },
          "metadata": {
            "tags": []
          },
          "execution_count": 50
        }
      ]
    },
    {
      "cell_type": "code",
      "metadata": {
        "id": "JvDAe6cmWpMs",
        "colab_type": "code",
        "colab": {
          "base_uri": "https://localhost:8080/",
          "height": 225
        },
        "outputId": "bf029dc4-c25e-4c96-f880-8c9012d3ce6d"
      },
      "source": [
        "# sorting by values\n",
        "zoo_indexname.sort_values(by='Lion')"
      ],
      "execution_count": 51,
      "outputs": [
        {
          "output_type": "execute_result",
          "data": {
            "text/html": [
              "<div>\n",
              "<style scoped>\n",
              "    .dataframe tbody tr th:only-of-type {\n",
              "        vertical-align: middle;\n",
              "    }\n",
              "\n",
              "    .dataframe tbody tr th {\n",
              "        vertical-align: top;\n",
              "    }\n",
              "\n",
              "    .dataframe thead th {\n",
              "        text-align: right;\n",
              "    }\n",
              "</style>\n",
              "<table border=\"1\" class=\"dataframe\">\n",
              "  <thead>\n",
              "    <tr style=\"text-align: right;\">\n",
              "      <th></th>\n",
              "      <th>Lion</th>\n",
              "      <th>Tiger</th>\n",
              "      <th>Leapord</th>\n",
              "      <th>Cheetah</th>\n",
              "    </tr>\n",
              "  </thead>\n",
              "  <tbody>\n",
              "    <tr>\n",
              "      <th>zoo4</th>\n",
              "      <td>1</td>\n",
              "      <td>8</td>\n",
              "      <td>11</td>\n",
              "      <td>11</td>\n",
              "    </tr>\n",
              "    <tr>\n",
              "      <th>zoo2</th>\n",
              "      <td>5</td>\n",
              "      <td>13</td>\n",
              "      <td>8</td>\n",
              "      <td>8</td>\n",
              "    </tr>\n",
              "    <tr>\n",
              "      <th>zoo5</th>\n",
              "      <td>5</td>\n",
              "      <td>19</td>\n",
              "      <td>3</td>\n",
              "      <td>3</td>\n",
              "    </tr>\n",
              "    <tr>\n",
              "      <th>zoo3</th>\n",
              "      <td>12</td>\n",
              "      <td>2</td>\n",
              "      <td>15</td>\n",
              "      <td>15</td>\n",
              "    </tr>\n",
              "    <tr>\n",
              "      <th>zoo1</th>\n",
              "      <td>17</td>\n",
              "      <td>7</td>\n",
              "      <td>14</td>\n",
              "      <td>14</td>\n",
              "    </tr>\n",
              "    <tr>\n",
              "      <th>zoo0</th>\n",
              "      <td>23</td>\n",
              "      <td>10</td>\n",
              "      <td>4</td>\n",
              "      <td>4</td>\n",
              "    </tr>\n",
              "  </tbody>\n",
              "</table>\n",
              "</div>"
            ],
            "text/plain": [
              "      Lion  Tiger  Leapord  Cheetah\n",
              "zoo4     1      8       11       11\n",
              "zoo2     5     13        8        8\n",
              "zoo5     5     19        3        3\n",
              "zoo3    12      2       15       15\n",
              "zoo1    17      7       14       14\n",
              "zoo0    23     10        4        4"
            ]
          },
          "metadata": {
            "tags": []
          },
          "execution_count": 51
        }
      ]
    },
    {
      "cell_type": "code",
      "metadata": {
        "id": "9thXbFTFWpMv",
        "colab_type": "code",
        "colab": {
          "base_uri": "https://localhost:8080/",
          "height": 284
        },
        "outputId": "2eca5e05-e128-4839-91d7-456ac92e0bd7"
      },
      "source": [
        "# summary statistics\n",
        "zoo_indexname.describe()"
      ],
      "execution_count": 52,
      "outputs": [
        {
          "output_type": "execute_result",
          "data": {
            "text/html": [
              "<div>\n",
              "<style scoped>\n",
              "    .dataframe tbody tr th:only-of-type {\n",
              "        vertical-align: middle;\n",
              "    }\n",
              "\n",
              "    .dataframe tbody tr th {\n",
              "        vertical-align: top;\n",
              "    }\n",
              "\n",
              "    .dataframe thead th {\n",
              "        text-align: right;\n",
              "    }\n",
              "</style>\n",
              "<table border=\"1\" class=\"dataframe\">\n",
              "  <thead>\n",
              "    <tr style=\"text-align: right;\">\n",
              "      <th></th>\n",
              "      <th>Lion</th>\n",
              "      <th>Tiger</th>\n",
              "      <th>Leapord</th>\n",
              "      <th>Cheetah</th>\n",
              "    </tr>\n",
              "  </thead>\n",
              "  <tbody>\n",
              "    <tr>\n",
              "      <th>count</th>\n",
              "      <td>6.00000</td>\n",
              "      <td>6.000000</td>\n",
              "      <td>6.000000</td>\n",
              "      <td>6.000000</td>\n",
              "    </tr>\n",
              "    <tr>\n",
              "      <th>mean</th>\n",
              "      <td>10.50000</td>\n",
              "      <td>9.833333</td>\n",
              "      <td>9.166667</td>\n",
              "      <td>9.166667</td>\n",
              "    </tr>\n",
              "    <tr>\n",
              "      <th>std</th>\n",
              "      <td>8.38451</td>\n",
              "      <td>5.776389</td>\n",
              "      <td>5.036533</td>\n",
              "      <td>5.036533</td>\n",
              "    </tr>\n",
              "    <tr>\n",
              "      <th>min</th>\n",
              "      <td>1.00000</td>\n",
              "      <td>2.000000</td>\n",
              "      <td>3.000000</td>\n",
              "      <td>3.000000</td>\n",
              "    </tr>\n",
              "    <tr>\n",
              "      <th>25%</th>\n",
              "      <td>5.00000</td>\n",
              "      <td>7.250000</td>\n",
              "      <td>5.000000</td>\n",
              "      <td>5.000000</td>\n",
              "    </tr>\n",
              "    <tr>\n",
              "      <th>50%</th>\n",
              "      <td>8.50000</td>\n",
              "      <td>9.000000</td>\n",
              "      <td>9.500000</td>\n",
              "      <td>9.500000</td>\n",
              "    </tr>\n",
              "    <tr>\n",
              "      <th>75%</th>\n",
              "      <td>15.75000</td>\n",
              "      <td>12.250000</td>\n",
              "      <td>13.250000</td>\n",
              "      <td>13.250000</td>\n",
              "    </tr>\n",
              "    <tr>\n",
              "      <th>max</th>\n",
              "      <td>23.00000</td>\n",
              "      <td>19.000000</td>\n",
              "      <td>15.000000</td>\n",
              "      <td>15.000000</td>\n",
              "    </tr>\n",
              "  </tbody>\n",
              "</table>\n",
              "</div>"
            ],
            "text/plain": [
              "           Lion      Tiger    Leapord    Cheetah\n",
              "count   6.00000   6.000000   6.000000   6.000000\n",
              "mean   10.50000   9.833333   9.166667   9.166667\n",
              "std     8.38451   5.776389   5.036533   5.036533\n",
              "min     1.00000   2.000000   3.000000   3.000000\n",
              "25%     5.00000   7.250000   5.000000   5.000000\n",
              "50%     8.50000   9.000000   9.500000   9.500000\n",
              "75%    15.75000  12.250000  13.250000  13.250000\n",
              "max    23.00000  19.000000  15.000000  15.000000"
            ]
          },
          "metadata": {
            "tags": []
          },
          "execution_count": 52
        }
      ]
    },
    {
      "cell_type": "code",
      "metadata": {
        "id": "qbIqLc7uWpMz",
        "colab_type": "code",
        "colab": {
          "base_uri": "https://localhost:8080/",
          "height": 166
        },
        "outputId": "0608ca7e-6da3-486e-a7fc-49f6d8a9cbcb"
      },
      "source": [
        "# transpose data (rows become columns and columns become rows)\n",
        "zoo_indexname.T"
      ],
      "execution_count": 53,
      "outputs": [
        {
          "output_type": "execute_result",
          "data": {
            "text/html": [
              "<div>\n",
              "<style scoped>\n",
              "    .dataframe tbody tr th:only-of-type {\n",
              "        vertical-align: middle;\n",
              "    }\n",
              "\n",
              "    .dataframe tbody tr th {\n",
              "        vertical-align: top;\n",
              "    }\n",
              "\n",
              "    .dataframe thead th {\n",
              "        text-align: right;\n",
              "    }\n",
              "</style>\n",
              "<table border=\"1\" class=\"dataframe\">\n",
              "  <thead>\n",
              "    <tr style=\"text-align: right;\">\n",
              "      <th></th>\n",
              "      <th>zoo0</th>\n",
              "      <th>zoo1</th>\n",
              "      <th>zoo2</th>\n",
              "      <th>zoo3</th>\n",
              "      <th>zoo4</th>\n",
              "      <th>zoo5</th>\n",
              "    </tr>\n",
              "  </thead>\n",
              "  <tbody>\n",
              "    <tr>\n",
              "      <th>Lion</th>\n",
              "      <td>23</td>\n",
              "      <td>17</td>\n",
              "      <td>5</td>\n",
              "      <td>12</td>\n",
              "      <td>1</td>\n",
              "      <td>5</td>\n",
              "    </tr>\n",
              "    <tr>\n",
              "      <th>Tiger</th>\n",
              "      <td>10</td>\n",
              "      <td>7</td>\n",
              "      <td>13</td>\n",
              "      <td>2</td>\n",
              "      <td>8</td>\n",
              "      <td>19</td>\n",
              "    </tr>\n",
              "    <tr>\n",
              "      <th>Leapord</th>\n",
              "      <td>4</td>\n",
              "      <td>14</td>\n",
              "      <td>8</td>\n",
              "      <td>15</td>\n",
              "      <td>11</td>\n",
              "      <td>3</td>\n",
              "    </tr>\n",
              "    <tr>\n",
              "      <th>Cheetah</th>\n",
              "      <td>4</td>\n",
              "      <td>14</td>\n",
              "      <td>8</td>\n",
              "      <td>15</td>\n",
              "      <td>11</td>\n",
              "      <td>3</td>\n",
              "    </tr>\n",
              "  </tbody>\n",
              "</table>\n",
              "</div>"
            ],
            "text/plain": [
              "         zoo0  zoo1  zoo2  zoo3  zoo4  zoo5\n",
              "Lion       23    17     5    12     1     5\n",
              "Tiger      10     7    13     2     8    19\n",
              "Leapord     4    14     8    15    11     3\n",
              "Cheetah     4    14     8    15    11     3"
            ]
          },
          "metadata": {
            "tags": []
          },
          "execution_count": 53
        }
      ]
    },
    {
      "cell_type": "markdown",
      "metadata": {
        "id": "WxOy1eJgWpM3",
        "colab_type": "text"
      },
      "source": [
        "## Advanced Pandas Operations"
      ]
    },
    {
      "cell_type": "code",
      "metadata": {
        "id": "PIJDlYaoWpM4",
        "colab_type": "code",
        "colab": {}
      },
      "source": [
        "# Demonstration of lambda, apply, map, filter, reduce, and groupby"
      ],
      "execution_count": 0,
      "outputs": []
    },
    {
      "cell_type": "code",
      "metadata": {
        "id": "haomzMZxWpM7",
        "colab_type": "code",
        "colab": {
          "base_uri": "https://localhost:8080/",
          "height": 225
        },
        "outputId": "a5f2a90c-b419-4c3c-a19d-21581dd87a57"
      },
      "source": [
        "# Let's see the dataframe again with zoo names\n",
        "zoo_indexname"
      ],
      "execution_count": 56,
      "outputs": [
        {
          "output_type": "execute_result",
          "data": {
            "text/html": [
              "<div>\n",
              "<style scoped>\n",
              "    .dataframe tbody tr th:only-of-type {\n",
              "        vertical-align: middle;\n",
              "    }\n",
              "\n",
              "    .dataframe tbody tr th {\n",
              "        vertical-align: top;\n",
              "    }\n",
              "\n",
              "    .dataframe thead th {\n",
              "        text-align: right;\n",
              "    }\n",
              "</style>\n",
              "<table border=\"1\" class=\"dataframe\">\n",
              "  <thead>\n",
              "    <tr style=\"text-align: right;\">\n",
              "      <th></th>\n",
              "      <th>Lion</th>\n",
              "      <th>Tiger</th>\n",
              "      <th>Leapord</th>\n",
              "      <th>Cheetah</th>\n",
              "    </tr>\n",
              "  </thead>\n",
              "  <tbody>\n",
              "    <tr>\n",
              "      <th>zoo0</th>\n",
              "      <td>23</td>\n",
              "      <td>10</td>\n",
              "      <td>4</td>\n",
              "      <td>4</td>\n",
              "    </tr>\n",
              "    <tr>\n",
              "      <th>zoo1</th>\n",
              "      <td>17</td>\n",
              "      <td>7</td>\n",
              "      <td>14</td>\n",
              "      <td>14</td>\n",
              "    </tr>\n",
              "    <tr>\n",
              "      <th>zoo2</th>\n",
              "      <td>5</td>\n",
              "      <td>13</td>\n",
              "      <td>8</td>\n",
              "      <td>8</td>\n",
              "    </tr>\n",
              "    <tr>\n",
              "      <th>zoo3</th>\n",
              "      <td>12</td>\n",
              "      <td>2</td>\n",
              "      <td>15</td>\n",
              "      <td>15</td>\n",
              "    </tr>\n",
              "    <tr>\n",
              "      <th>zoo4</th>\n",
              "      <td>1</td>\n",
              "      <td>8</td>\n",
              "      <td>11</td>\n",
              "      <td>11</td>\n",
              "    </tr>\n",
              "    <tr>\n",
              "      <th>zoo5</th>\n",
              "      <td>5</td>\n",
              "      <td>19</td>\n",
              "      <td>3</td>\n",
              "      <td>3</td>\n",
              "    </tr>\n",
              "  </tbody>\n",
              "</table>\n",
              "</div>"
            ],
            "text/plain": [
              "      Lion  Tiger  Leapord  Cheetah\n",
              "zoo0    23     10        4        4\n",
              "zoo1    17      7       14       14\n",
              "zoo2     5     13        8        8\n",
              "zoo3    12      2       15       15\n",
              "zoo4     1      8       11       11\n",
              "zoo5     5     19        3        3"
            ]
          },
          "metadata": {
            "tags": []
          },
          "execution_count": 56
        }
      ]
    },
    {
      "cell_type": "code",
      "metadata": {
        "id": "nvEPgQ3DWpM-",
        "colab_type": "code",
        "colab": {
          "base_uri": "https://localhost:8080/",
          "height": 225
        },
        "outputId": "c47e0e8c-8ea3-43c0-d406-d5b284ad821c"
      },
      "source": [
        "# Use of apply and lambda\n",
        "zoo_indexname['Tiger'] = zoo_indexname['Tiger'].apply(lambda x: x*17)\n",
        "zoo_indexname['Cheetah'] = zoo_indexname['Cheetah'].apply(lambda x: x*8)\n",
        "zoo_indexname['Lion'] = zoo_indexname['Lion'].apply(lambda x: x*23)\n",
        "zoo_indexname"
      ],
      "execution_count": 57,
      "outputs": [
        {
          "output_type": "execute_result",
          "data": {
            "text/html": [
              "<div>\n",
              "<style scoped>\n",
              "    .dataframe tbody tr th:only-of-type {\n",
              "        vertical-align: middle;\n",
              "    }\n",
              "\n",
              "    .dataframe tbody tr th {\n",
              "        vertical-align: top;\n",
              "    }\n",
              "\n",
              "    .dataframe thead th {\n",
              "        text-align: right;\n",
              "    }\n",
              "</style>\n",
              "<table border=\"1\" class=\"dataframe\">\n",
              "  <thead>\n",
              "    <tr style=\"text-align: right;\">\n",
              "      <th></th>\n",
              "      <th>Lion</th>\n",
              "      <th>Tiger</th>\n",
              "      <th>Leapord</th>\n",
              "      <th>Cheetah</th>\n",
              "    </tr>\n",
              "  </thead>\n",
              "  <tbody>\n",
              "    <tr>\n",
              "      <th>zoo0</th>\n",
              "      <td>529</td>\n",
              "      <td>170</td>\n",
              "      <td>4</td>\n",
              "      <td>32</td>\n",
              "    </tr>\n",
              "    <tr>\n",
              "      <th>zoo1</th>\n",
              "      <td>391</td>\n",
              "      <td>119</td>\n",
              "      <td>14</td>\n",
              "      <td>112</td>\n",
              "    </tr>\n",
              "    <tr>\n",
              "      <th>zoo2</th>\n",
              "      <td>115</td>\n",
              "      <td>221</td>\n",
              "      <td>8</td>\n",
              "      <td>64</td>\n",
              "    </tr>\n",
              "    <tr>\n",
              "      <th>zoo3</th>\n",
              "      <td>276</td>\n",
              "      <td>34</td>\n",
              "      <td>15</td>\n",
              "      <td>120</td>\n",
              "    </tr>\n",
              "    <tr>\n",
              "      <th>zoo4</th>\n",
              "      <td>23</td>\n",
              "      <td>136</td>\n",
              "      <td>11</td>\n",
              "      <td>88</td>\n",
              "    </tr>\n",
              "    <tr>\n",
              "      <th>zoo5</th>\n",
              "      <td>115</td>\n",
              "      <td>323</td>\n",
              "      <td>3</td>\n",
              "      <td>24</td>\n",
              "    </tr>\n",
              "  </tbody>\n",
              "</table>\n",
              "</div>"
            ],
            "text/plain": [
              "      Lion  Tiger  Leapord  Cheetah\n",
              "zoo0   529    170        4       32\n",
              "zoo1   391    119       14      112\n",
              "zoo2   115    221        8       64\n",
              "zoo3   276     34       15      120\n",
              "zoo4    23    136       11       88\n",
              "zoo5   115    323        3       24"
            ]
          },
          "metadata": {
            "tags": []
          },
          "execution_count": 57
        }
      ]
    },
    {
      "cell_type": "code",
      "metadata": {
        "id": "X8YGMbbMWpNC",
        "colab_type": "code",
        "colab": {
          "base_uri": "https://localhost:8080/",
          "height": 225
        },
        "outputId": "3d991944-db10-4ea3-c8e1-5cd7020e9702"
      },
      "source": [
        "# Use of apply and map\n",
        "# Apply a function to a Dataframe elementwise.\n",
        "zoo_indexname = zoo_indexname.applymap(lambda x: x/2.0)\n",
        "zoo_indexname"
      ],
      "execution_count": 58,
      "outputs": [
        {
          "output_type": "execute_result",
          "data": {
            "text/html": [
              "<div>\n",
              "<style scoped>\n",
              "    .dataframe tbody tr th:only-of-type {\n",
              "        vertical-align: middle;\n",
              "    }\n",
              "\n",
              "    .dataframe tbody tr th {\n",
              "        vertical-align: top;\n",
              "    }\n",
              "\n",
              "    .dataframe thead th {\n",
              "        text-align: right;\n",
              "    }\n",
              "</style>\n",
              "<table border=\"1\" class=\"dataframe\">\n",
              "  <thead>\n",
              "    <tr style=\"text-align: right;\">\n",
              "      <th></th>\n",
              "      <th>Lion</th>\n",
              "      <th>Tiger</th>\n",
              "      <th>Leapord</th>\n",
              "      <th>Cheetah</th>\n",
              "    </tr>\n",
              "  </thead>\n",
              "  <tbody>\n",
              "    <tr>\n",
              "      <th>zoo0</th>\n",
              "      <td>264.5</td>\n",
              "      <td>85.0</td>\n",
              "      <td>2.0</td>\n",
              "      <td>16.0</td>\n",
              "    </tr>\n",
              "    <tr>\n",
              "      <th>zoo1</th>\n",
              "      <td>195.5</td>\n",
              "      <td>59.5</td>\n",
              "      <td>7.0</td>\n",
              "      <td>56.0</td>\n",
              "    </tr>\n",
              "    <tr>\n",
              "      <th>zoo2</th>\n",
              "      <td>57.5</td>\n",
              "      <td>110.5</td>\n",
              "      <td>4.0</td>\n",
              "      <td>32.0</td>\n",
              "    </tr>\n",
              "    <tr>\n",
              "      <th>zoo3</th>\n",
              "      <td>138.0</td>\n",
              "      <td>17.0</td>\n",
              "      <td>7.5</td>\n",
              "      <td>60.0</td>\n",
              "    </tr>\n",
              "    <tr>\n",
              "      <th>zoo4</th>\n",
              "      <td>11.5</td>\n",
              "      <td>68.0</td>\n",
              "      <td>5.5</td>\n",
              "      <td>44.0</td>\n",
              "    </tr>\n",
              "    <tr>\n",
              "      <th>zoo5</th>\n",
              "      <td>57.5</td>\n",
              "      <td>161.5</td>\n",
              "      <td>1.5</td>\n",
              "      <td>12.0</td>\n",
              "    </tr>\n",
              "  </tbody>\n",
              "</table>\n",
              "</div>"
            ],
            "text/plain": [
              "       Lion  Tiger  Leapord  Cheetah\n",
              "zoo0  264.5   85.0      2.0     16.0\n",
              "zoo1  195.5   59.5      7.0     56.0\n",
              "zoo2   57.5  110.5      4.0     32.0\n",
              "zoo3  138.0   17.0      7.5     60.0\n",
              "zoo4   11.5   68.0      5.5     44.0\n",
              "zoo5   57.5  161.5      1.5     12.0"
            ]
          },
          "metadata": {
            "tags": []
          },
          "execution_count": 58
        }
      ]
    },
    {
      "cell_type": "code",
      "metadata": {
        "id": "8514O_gGWpNE",
        "colab_type": "code",
        "colab": {
          "base_uri": "https://localhost:8080/",
          "height": 225
        },
        "outputId": "d28ffe07-e964-4fcf-c656-ecf8c4b00e98"
      },
      "source": [
        "# Use of filter with brackets\n",
        "# Where the condition is met, the actual value shows, otherwise NaN\n",
        "# Where do we have values less than 50?\n",
        "results_filter = zoo_indexname[zoo_indexname < 50]\n",
        "results_filter"
      ],
      "execution_count": 59,
      "outputs": [
        {
          "output_type": "execute_result",
          "data": {
            "text/html": [
              "<div>\n",
              "<style scoped>\n",
              "    .dataframe tbody tr th:only-of-type {\n",
              "        vertical-align: middle;\n",
              "    }\n",
              "\n",
              "    .dataframe tbody tr th {\n",
              "        vertical-align: top;\n",
              "    }\n",
              "\n",
              "    .dataframe thead th {\n",
              "        text-align: right;\n",
              "    }\n",
              "</style>\n",
              "<table border=\"1\" class=\"dataframe\">\n",
              "  <thead>\n",
              "    <tr style=\"text-align: right;\">\n",
              "      <th></th>\n",
              "      <th>Lion</th>\n",
              "      <th>Tiger</th>\n",
              "      <th>Leapord</th>\n",
              "      <th>Cheetah</th>\n",
              "    </tr>\n",
              "  </thead>\n",
              "  <tbody>\n",
              "    <tr>\n",
              "      <th>zoo0</th>\n",
              "      <td>NaN</td>\n",
              "      <td>NaN</td>\n",
              "      <td>2.0</td>\n",
              "      <td>16.0</td>\n",
              "    </tr>\n",
              "    <tr>\n",
              "      <th>zoo1</th>\n",
              "      <td>NaN</td>\n",
              "      <td>NaN</td>\n",
              "      <td>7.0</td>\n",
              "      <td>NaN</td>\n",
              "    </tr>\n",
              "    <tr>\n",
              "      <th>zoo2</th>\n",
              "      <td>NaN</td>\n",
              "      <td>NaN</td>\n",
              "      <td>4.0</td>\n",
              "      <td>32.0</td>\n",
              "    </tr>\n",
              "    <tr>\n",
              "      <th>zoo3</th>\n",
              "      <td>NaN</td>\n",
              "      <td>17.0</td>\n",
              "      <td>7.5</td>\n",
              "      <td>NaN</td>\n",
              "    </tr>\n",
              "    <tr>\n",
              "      <th>zoo4</th>\n",
              "      <td>11.5</td>\n",
              "      <td>NaN</td>\n",
              "      <td>5.5</td>\n",
              "      <td>44.0</td>\n",
              "    </tr>\n",
              "    <tr>\n",
              "      <th>zoo5</th>\n",
              "      <td>NaN</td>\n",
              "      <td>NaN</td>\n",
              "      <td>1.5</td>\n",
              "      <td>12.0</td>\n",
              "    </tr>\n",
              "  </tbody>\n",
              "</table>\n",
              "</div>"
            ],
            "text/plain": [
              "      Lion  Tiger  Leapord  Cheetah\n",
              "zoo0   NaN    NaN      2.0     16.0\n",
              "zoo1   NaN    NaN      7.0      NaN\n",
              "zoo2   NaN    NaN      4.0     32.0\n",
              "zoo3   NaN   17.0      7.5      NaN\n",
              "zoo4  11.5    NaN      5.5     44.0\n",
              "zoo5   NaN    NaN      1.5     12.0"
            ]
          },
          "metadata": {
            "tags": []
          },
          "execution_count": 59
        }
      ]
    },
    {
      "cell_type": "code",
      "metadata": {
        "id": "CuMPtQiMWpNJ",
        "colab_type": "code",
        "colab": {
          "base_uri": "https://localhost:8080/",
          "height": 34
        },
        "outputId": "f2f2bd26-d338-4fc9-b36f-0ea475047cb2"
      },
      "source": [
        "# example of summation by column\n",
        "Tiger_sum = zoo_indexname['Tiger'].sum()\n",
        "Tiger_sum"
      ],
      "execution_count": 67,
      "outputs": [
        {
          "output_type": "execute_result",
          "data": {
            "text/plain": [
              "501.5"
            ]
          },
          "metadata": {
            "tags": []
          },
          "execution_count": 67
        }
      ]
    },
    {
      "cell_type": "code",
      "metadata": {
        "id": "-fdWzToLWpNM",
        "colab_type": "code",
        "colab": {
          "base_uri": "https://localhost:8080/",
          "height": 225
        },
        "outputId": "154d8b8c-63ff-4e17-eb02-082e6ec66826"
      },
      "source": [
        "# display dataframe again\n",
        "zoo_indexname"
      ],
      "execution_count": 68,
      "outputs": [
        {
          "output_type": "execute_result",
          "data": {
            "text/html": [
              "<div>\n",
              "<style scoped>\n",
              "    .dataframe tbody tr th:only-of-type {\n",
              "        vertical-align: middle;\n",
              "    }\n",
              "\n",
              "    .dataframe tbody tr th {\n",
              "        vertical-align: top;\n",
              "    }\n",
              "\n",
              "    .dataframe thead th {\n",
              "        text-align: right;\n",
              "    }\n",
              "</style>\n",
              "<table border=\"1\" class=\"dataframe\">\n",
              "  <thead>\n",
              "    <tr style=\"text-align: right;\">\n",
              "      <th></th>\n",
              "      <th>Lion</th>\n",
              "      <th>Tiger</th>\n",
              "      <th>Leapord</th>\n",
              "      <th>Cheetah</th>\n",
              "    </tr>\n",
              "  </thead>\n",
              "  <tbody>\n",
              "    <tr>\n",
              "      <th>zoo0</th>\n",
              "      <td>264.5</td>\n",
              "      <td>85.0</td>\n",
              "      <td>2.0</td>\n",
              "      <td>16.0</td>\n",
              "    </tr>\n",
              "    <tr>\n",
              "      <th>zoo1</th>\n",
              "      <td>195.5</td>\n",
              "      <td>59.5</td>\n",
              "      <td>7.0</td>\n",
              "      <td>56.0</td>\n",
              "    </tr>\n",
              "    <tr>\n",
              "      <th>zoo2</th>\n",
              "      <td>57.5</td>\n",
              "      <td>110.5</td>\n",
              "      <td>4.0</td>\n",
              "      <td>32.0</td>\n",
              "    </tr>\n",
              "    <tr>\n",
              "      <th>zoo3</th>\n",
              "      <td>138.0</td>\n",
              "      <td>17.0</td>\n",
              "      <td>7.5</td>\n",
              "      <td>60.0</td>\n",
              "    </tr>\n",
              "    <tr>\n",
              "      <th>zoo4</th>\n",
              "      <td>11.5</td>\n",
              "      <td>68.0</td>\n",
              "      <td>5.5</td>\n",
              "      <td>44.0</td>\n",
              "    </tr>\n",
              "    <tr>\n",
              "      <th>zoo5</th>\n",
              "      <td>57.5</td>\n",
              "      <td>161.5</td>\n",
              "      <td>1.5</td>\n",
              "      <td>12.0</td>\n",
              "    </tr>\n",
              "  </tbody>\n",
              "</table>\n",
              "</div>"
            ],
            "text/plain": [
              "       Lion  Tiger  Leapord  Cheetah\n",
              "zoo0  264.5   85.0      2.0     16.0\n",
              "zoo1  195.5   59.5      7.0     56.0\n",
              "zoo2   57.5  110.5      4.0     32.0\n",
              "zoo3  138.0   17.0      7.5     60.0\n",
              "zoo4   11.5   68.0      5.5     44.0\n",
              "zoo5   57.5  161.5      1.5     12.0"
            ]
          },
          "metadata": {
            "tags": []
          },
          "execution_count": 68
        }
      ]
    },
    {
      "cell_type": "code",
      "metadata": {
        "id": "sGfDhXuOWpNO",
        "colab_type": "code",
        "colab": {
          "base_uri": "https://localhost:8080/",
          "height": 101
        },
        "outputId": "45d3344d-7db9-46f9-90f2-34dfb5ee3060"
      },
      "source": [
        "# Row-wise operation with axis = 0 for a Numpy array\n",
        "# Reduce using apply and np.sum\n",
        "# FutureWarning: The reduce argument is deprecated and will be removed in a future version.\n",
        "#df_sum_column = zoo_indexname.apply(np.sum, reduce=True, axis=0)\n",
        "\n",
        "# np.sum sums down the rows per column when we set axis = 0, 0 refers to the row axis for a NumPy array\n",
        "# Row-wise operation\n",
        "df_sum_column = zoo_indexname.apply(np.sum, axis=0)\n",
        "df_sum_column"
      ],
      "execution_count": 69,
      "outputs": [
        {
          "output_type": "execute_result",
          "data": {
            "text/plain": [
              "Lion       724.5\n",
              "Tiger      501.5\n",
              "Leapord     27.5\n",
              "Cheetah    220.0\n",
              "dtype: float64"
            ]
          },
          "metadata": {
            "tags": []
          },
          "execution_count": 69
        }
      ]
    },
    {
      "cell_type": "code",
      "metadata": {
        "id": "7pr3p2LrWpNR",
        "colab_type": "code",
        "colab": {
          "base_uri": "https://localhost:8080/",
          "height": 134
        },
        "outputId": "2eef81b3-d370-480a-c4bc-28e68b97b76d"
      },
      "source": [
        "# Column-wise operation with axis = 1 for a NumPy array\n",
        "# You get back sum totals per row\n",
        "df_sum_row = zoo_indexname.apply(np.sum, axis=1)\n",
        "df_sum_row"
      ],
      "execution_count": 70,
      "outputs": [
        {
          "output_type": "execute_result",
          "data": {
            "text/plain": [
              "zoo0    367.5\n",
              "zoo1    318.0\n",
              "zoo2    204.0\n",
              "zoo3    222.5\n",
              "zoo4    129.0\n",
              "zoo5    232.5\n",
              "dtype: float64"
            ]
          },
          "metadata": {
            "tags": []
          },
          "execution_count": 70
        }
      ]
    },
    {
      "cell_type": "code",
      "metadata": {
        "id": "ouqEiA8wWpNU",
        "colab_type": "code",
        "colab": {
          "base_uri": "https://localhost:8080/",
          "height": 225
        },
        "outputId": "5fea65e0-50f4-4be0-a5ac-9a7cdeb7e53c"
      },
      "source": [
        "# Create a fourth column that has a list of boolean values\n",
        "new_col = [True, True, False, True, False, False]\n",
        "\n",
        "# Assign list to be the new column name\n",
        "zoo_indexname['foster'] = new_col\n",
        "zoo_indexname"
      ],
      "execution_count": 71,
      "outputs": [
        {
          "output_type": "execute_result",
          "data": {
            "text/html": [
              "<div>\n",
              "<style scoped>\n",
              "    .dataframe tbody tr th:only-of-type {\n",
              "        vertical-align: middle;\n",
              "    }\n",
              "\n",
              "    .dataframe tbody tr th {\n",
              "        vertical-align: top;\n",
              "    }\n",
              "\n",
              "    .dataframe thead th {\n",
              "        text-align: right;\n",
              "    }\n",
              "</style>\n",
              "<table border=\"1\" class=\"dataframe\">\n",
              "  <thead>\n",
              "    <tr style=\"text-align: right;\">\n",
              "      <th></th>\n",
              "      <th>Lion</th>\n",
              "      <th>Tiger</th>\n",
              "      <th>Leapord</th>\n",
              "      <th>Cheetah</th>\n",
              "      <th>foster</th>\n",
              "    </tr>\n",
              "  </thead>\n",
              "  <tbody>\n",
              "    <tr>\n",
              "      <th>zoo0</th>\n",
              "      <td>264.5</td>\n",
              "      <td>85.0</td>\n",
              "      <td>2.0</td>\n",
              "      <td>16.0</td>\n",
              "      <td>True</td>\n",
              "    </tr>\n",
              "    <tr>\n",
              "      <th>zoo1</th>\n",
              "      <td>195.5</td>\n",
              "      <td>59.5</td>\n",
              "      <td>7.0</td>\n",
              "      <td>56.0</td>\n",
              "      <td>True</td>\n",
              "    </tr>\n",
              "    <tr>\n",
              "      <th>zoo2</th>\n",
              "      <td>57.5</td>\n",
              "      <td>110.5</td>\n",
              "      <td>4.0</td>\n",
              "      <td>32.0</td>\n",
              "      <td>False</td>\n",
              "    </tr>\n",
              "    <tr>\n",
              "      <th>zoo3</th>\n",
              "      <td>138.0</td>\n",
              "      <td>17.0</td>\n",
              "      <td>7.5</td>\n",
              "      <td>60.0</td>\n",
              "      <td>True</td>\n",
              "    </tr>\n",
              "    <tr>\n",
              "      <th>zoo4</th>\n",
              "      <td>11.5</td>\n",
              "      <td>68.0</td>\n",
              "      <td>5.5</td>\n",
              "      <td>44.0</td>\n",
              "      <td>False</td>\n",
              "    </tr>\n",
              "    <tr>\n",
              "      <th>zoo5</th>\n",
              "      <td>57.5</td>\n",
              "      <td>161.5</td>\n",
              "      <td>1.5</td>\n",
              "      <td>12.0</td>\n",
              "      <td>False</td>\n",
              "    </tr>\n",
              "  </tbody>\n",
              "</table>\n",
              "</div>"
            ],
            "text/plain": [
              "       Lion  Tiger  Leapord  Cheetah  foster\n",
              "zoo0  264.5   85.0      2.0     16.0    True\n",
              "zoo1  195.5   59.5      7.0     56.0    True\n",
              "zoo2   57.5  110.5      4.0     32.0   False\n",
              "zoo3  138.0   17.0      7.5     60.0    True\n",
              "zoo4   11.5   68.0      5.5     44.0   False\n",
              "zoo5   57.5  161.5      1.5     12.0   False"
            ]
          },
          "metadata": {
            "tags": []
          },
          "execution_count": 71
        }
      ]
    },
    {
      "cell_type": "code",
      "metadata": {
        "id": "HpvwJyxHWpNW",
        "colab_type": "code",
        "colab": {
          "base_uri": "https://localhost:8080/",
          "height": 136
        },
        "outputId": "d054b1c2-c408-4cb1-ebbd-d4018674a7d9"
      },
      "source": [
        "# Use groupby and sum, aggregate functions\n",
        "# You will attain the aggregate sums across zoos where False or True\n",
        "zoo_indexname.groupby('foster').sum()"
      ],
      "execution_count": 72,
      "outputs": [
        {
          "output_type": "execute_result",
          "data": {
            "text/html": [
              "<div>\n",
              "<style scoped>\n",
              "    .dataframe tbody tr th:only-of-type {\n",
              "        vertical-align: middle;\n",
              "    }\n",
              "\n",
              "    .dataframe tbody tr th {\n",
              "        vertical-align: top;\n",
              "    }\n",
              "\n",
              "    .dataframe thead th {\n",
              "        text-align: right;\n",
              "    }\n",
              "</style>\n",
              "<table border=\"1\" class=\"dataframe\">\n",
              "  <thead>\n",
              "    <tr style=\"text-align: right;\">\n",
              "      <th></th>\n",
              "      <th>Lion</th>\n",
              "      <th>Tiger</th>\n",
              "      <th>Leapord</th>\n",
              "      <th>Cheetah</th>\n",
              "    </tr>\n",
              "    <tr>\n",
              "      <th>foster</th>\n",
              "      <th></th>\n",
              "      <th></th>\n",
              "      <th></th>\n",
              "      <th></th>\n",
              "    </tr>\n",
              "  </thead>\n",
              "  <tbody>\n",
              "    <tr>\n",
              "      <th>False</th>\n",
              "      <td>126.5</td>\n",
              "      <td>340.0</td>\n",
              "      <td>11.0</td>\n",
              "      <td>88.0</td>\n",
              "    </tr>\n",
              "    <tr>\n",
              "      <th>True</th>\n",
              "      <td>598.0</td>\n",
              "      <td>161.5</td>\n",
              "      <td>16.5</td>\n",
              "      <td>132.0</td>\n",
              "    </tr>\n",
              "  </tbody>\n",
              "</table>\n",
              "</div>"
            ],
            "text/plain": [
              "         Lion  Tiger  Leapord  Cheetah\n",
              "foster                                \n",
              "False   126.5  340.0     11.0     88.0\n",
              "True    598.0  161.5     16.5    132.0"
            ]
          },
          "metadata": {
            "tags": []
          },
          "execution_count": 72
        }
      ]
    },
    {
      "cell_type": "code",
      "metadata": {
        "id": "DtZrK7ioWpNa",
        "colab_type": "code",
        "colab": {}
      },
      "source": [
        "# end of section"
      ],
      "execution_count": 0,
      "outputs": []
    }
  ]
}